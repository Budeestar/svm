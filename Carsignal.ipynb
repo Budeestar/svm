{
 "cells": [
  {
   "cell_type": "code",
   "execution_count": 1,
   "metadata": {},
   "outputs": [],
   "source": [
    "import seaborn as sns\n",
    "import matplotlib.pyplot as plt\n",
    "\n",
    "\n",
    "import pandas as pd\n",
    "df = pd.read_csv('Carsignal.csv')"
   ]
  },
  {
   "cell_type": "code",
   "execution_count": 2,
   "metadata": {},
   "outputs": [
    {
     "data": {
      "text/html": [
       "<div>\n",
       "<style scoped>\n",
       "    .dataframe tbody tr th:only-of-type {\n",
       "        vertical-align: middle;\n",
       "    }\n",
       "\n",
       "    .dataframe tbody tr th {\n",
       "        vertical-align: top;\n",
       "    }\n",
       "\n",
       "    .dataframe thead th {\n",
       "        text-align: right;\n",
       "    }\n",
       "</style>\n",
       "<table border=\"1\" class=\"dataframe\">\n",
       "  <thead>\n",
       "    <tr style=\"text-align: right;\">\n",
       "      <th></th>\n",
       "      <th>Unnamed: 0</th>\n",
       "      <th>Timestamp</th>\n",
       "      <th>ID</th>\n",
       "      <th>DLC</th>\n",
       "      <th>DATA0</th>\n",
       "      <th>DATA1</th>\n",
       "      <th>DATA2</th>\n",
       "      <th>DATA3</th>\n",
       "      <th>DATA4</th>\n",
       "      <th>DATA5</th>\n",
       "      <th>DATA6</th>\n",
       "      <th>DATA7</th>\n",
       "      <th>Attack_Type</th>\n",
       "    </tr>\n",
       "  </thead>\n",
       "  <tbody>\n",
       "    <tr>\n",
       "      <th>0</th>\n",
       "      <td>578323</td>\n",
       "      <td>253.250801</td>\n",
       "      <td>02a0000</td>\n",
       "      <td>8</td>\n",
       "      <td>02</td>\n",
       "      <td>00</td>\n",
       "      <td>64</td>\n",
       "      <td>9d</td>\n",
       "      <td>db</td>\n",
       "      <td>0c</td>\n",
       "      <td>ba</td>\n",
       "      <td>02</td>\n",
       "      <td>Attack_free</td>\n",
       "    </tr>\n",
       "    <tr>\n",
       "      <th>1</th>\n",
       "      <td>965182</td>\n",
       "      <td>422.646903</td>\n",
       "      <td>0164000</td>\n",
       "      <td>8</td>\n",
       "      <td>00</td>\n",
       "      <td>08</td>\n",
       "      <td>00</td>\n",
       "      <td>00</td>\n",
       "      <td>00</td>\n",
       "      <td>00</td>\n",
       "      <td>06</td>\n",
       "      <td>0e</td>\n",
       "      <td>Attack_free</td>\n",
       "    </tr>\n",
       "    <tr>\n",
       "      <th>2</th>\n",
       "      <td>126519</td>\n",
       "      <td>67.240896</td>\n",
       "      <td>018f000</td>\n",
       "      <td>8</td>\n",
       "      <td>00</td>\n",
       "      <td>34</td>\n",
       "      <td>17</td>\n",
       "      <td>00</td>\n",
       "      <td>00</td>\n",
       "      <td>3f</td>\n",
       "      <td>00</td>\n",
       "      <td>00</td>\n",
       "      <td>DoS_attack</td>\n",
       "    </tr>\n",
       "    <tr>\n",
       "      <th>3</th>\n",
       "      <td>542391</td>\n",
       "      <td>309.305666</td>\n",
       "      <td>0382000</td>\n",
       "      <td>8</td>\n",
       "      <td>40</td>\n",
       "      <td>fe</td>\n",
       "      <td>0f</td>\n",
       "      <td>00</td>\n",
       "      <td>00</td>\n",
       "      <td>00</td>\n",
       "      <td>00</td>\n",
       "      <td>08</td>\n",
       "      <td>Fuzzy_attack</td>\n",
       "    </tr>\n",
       "    <tr>\n",
       "      <th>4</th>\n",
       "      <td>2170607</td>\n",
       "      <td>950.534813</td>\n",
       "      <td>0545000</td>\n",
       "      <td>8</td>\n",
       "      <td>d8</td>\n",
       "      <td>0d</td>\n",
       "      <td>00</td>\n",
       "      <td>8b</td>\n",
       "      <td>10</td>\n",
       "      <td>00</td>\n",
       "      <td>10</td>\n",
       "      <td>00</td>\n",
       "      <td>Attack_free</td>\n",
       "    </tr>\n",
       "  </tbody>\n",
       "</table>\n",
       "</div>"
      ],
      "text/plain": [
       "   Unnamed: 0   Timestamp       ID  DLC DATA0 DATA1 DATA2 DATA3 DATA4 DATA5  \\\n",
       "0      578323  253.250801  02a0000    8    02    00    64    9d    db    0c   \n",
       "1      965182  422.646903  0164000    8    00    08    00    00    00    00   \n",
       "2      126519   67.240896  018f000    8    00    34    17    00    00    3f   \n",
       "3      542391  309.305666  0382000    8    40    fe    0f    00    00    00   \n",
       "4     2170607  950.534813  0545000    8    d8    0d    00    8b    10    00   \n",
       "\n",
       "  DATA6 DATA7   Attack_Type  \n",
       "0    ba    02   Attack_free  \n",
       "1    06    0e   Attack_free  \n",
       "2    00    00    DoS_attack  \n",
       "3    00    08  Fuzzy_attack  \n",
       "4    10    00   Attack_free  "
      ]
     },
     "execution_count": 2,
     "metadata": {},
     "output_type": "execute_result"
    }
   ],
   "source": [
    "df.head()"
   ]
  },
  {
   "cell_type": "code",
   "execution_count": 3,
   "metadata": {},
   "outputs": [
    {
     "data": {
      "text/html": [
       "<div>\n",
       "<style scoped>\n",
       "    .dataframe tbody tr th:only-of-type {\n",
       "        vertical-align: middle;\n",
       "    }\n",
       "\n",
       "    .dataframe tbody tr th {\n",
       "        vertical-align: top;\n",
       "    }\n",
       "\n",
       "    .dataframe thead th {\n",
       "        text-align: right;\n",
       "    }\n",
       "</style>\n",
       "<table border=\"1\" class=\"dataframe\">\n",
       "  <thead>\n",
       "    <tr style=\"text-align: right;\">\n",
       "      <th></th>\n",
       "      <th>Unnamed: 0</th>\n",
       "      <th>Timestamp</th>\n",
       "      <th>DLC</th>\n",
       "    </tr>\n",
       "  </thead>\n",
       "  <tbody>\n",
       "    <tr>\n",
       "      <th>count</th>\n",
       "      <td>3.618000e+04</td>\n",
       "      <td>36180.000000</td>\n",
       "      <td>36180.000000</td>\n",
       "    </tr>\n",
       "    <tr>\n",
       "      <th>mean</th>\n",
       "      <td>8.832141e+05</td>\n",
       "      <td>395.439727</td>\n",
       "      <td>7.554616</td>\n",
       "    </tr>\n",
       "    <tr>\n",
       "      <th>std</th>\n",
       "      <td>7.023117e+05</td>\n",
       "      <td>302.158486</td>\n",
       "      <td>1.618489</td>\n",
       "    </tr>\n",
       "    <tr>\n",
       "      <th>min</th>\n",
       "      <td>3.000000e+01</td>\n",
       "      <td>0.007862</td>\n",
       "      <td>0.000000</td>\n",
       "    </tr>\n",
       "    <tr>\n",
       "      <th>25%</th>\n",
       "      <td>2.997750e+05</td>\n",
       "      <td>145.569882</td>\n",
       "      <td>8.000000</td>\n",
       "    </tr>\n",
       "    <tr>\n",
       "      <th>50%</th>\n",
       "      <td>6.044670e+05</td>\n",
       "      <td>289.845738</td>\n",
       "      <td>8.000000</td>\n",
       "    </tr>\n",
       "    <tr>\n",
       "      <th>75%</th>\n",
       "      <td>1.466575e+06</td>\n",
       "      <td>642.224460</td>\n",
       "      <td>8.000000</td>\n",
       "    </tr>\n",
       "    <tr>\n",
       "      <th>max</th>\n",
       "      <td>2.369284e+06</td>\n",
       "      <td>1037.544850</td>\n",
       "      <td>8.000000</td>\n",
       "    </tr>\n",
       "  </tbody>\n",
       "</table>\n",
       "</div>"
      ],
      "text/plain": [
       "         Unnamed: 0     Timestamp           DLC\n",
       "count  3.618000e+04  36180.000000  36180.000000\n",
       "mean   8.832141e+05    395.439727      7.554616\n",
       "std    7.023117e+05    302.158486      1.618489\n",
       "min    3.000000e+01      0.007862      0.000000\n",
       "25%    2.997750e+05    145.569882      8.000000\n",
       "50%    6.044670e+05    289.845738      8.000000\n",
       "75%    1.466575e+06    642.224460      8.000000\n",
       "max    2.369284e+06   1037.544850      8.000000"
      ]
     },
     "execution_count": 3,
     "metadata": {},
     "output_type": "execute_result"
    }
   ],
   "source": [
    "df.describe()"
   ]
  },
  {
   "cell_type": "code",
   "execution_count": 4,
   "metadata": {},
   "outputs": [],
   "source": [
    "df = df.drop('Unnamed: 0', axis=1)\n",
    "df = df.drop('Timestamp', axis=1)\n"
   ]
  },
  {
   "cell_type": "markdown",
   "metadata": {},
   "source": [
    "dropping column becuase they add no value to prediuction and data analysis "
   ]
  },
  {
   "cell_type": "markdown",
   "metadata": {},
   "source": [
    "Checking Null values, sum gives number of null values in each row "
   ]
  },
  {
   "cell_type": "code",
   "execution_count": 5,
   "metadata": {},
   "outputs": [
    {
     "name": "stdout",
     "output_type": "stream",
     "text": [
      "ID                0\n",
      "DLC               0\n",
      "DATA0          1248\n",
      "DATA1          1248\n",
      "DATA2          1323\n",
      "DATA3          1445\n",
      "DATA4          1724\n",
      "DATA5          3042\n",
      "DATA6          3042\n",
      "DATA7          3042\n",
      "Attack_Type       0\n",
      "dtype: int64\n"
     ]
    }
   ],
   "source": [
    "print(df.isnull().sum())"
   ]
  },
  {
   "cell_type": "code",
   "execution_count": 6,
   "metadata": {},
   "outputs": [
    {
     "data": {
      "text/plain": [
       "array(['0c', '00', '3f', 'ce', '18', '96', nan, 'f6', '43', 'f1', 'fb',\n",
       "       '11', '5c', 'ff', 'cc', '2d', '8f', '17', 'c0', '2f', 'a9', '7c',\n",
       "       '10', '64', '01', '08', '13', 'e1', 'cd', '9b', '4b', '90', '93',\n",
       "       'bc', '8d', 'f0', '28', '19', '14', '15', '70', '2e', 'd0', '1a',\n",
       "       '1c', 'e8', 'f8', 'f5', '24', '88', '89', '7e', '1d', '0e', 'c8',\n",
       "       '9a', '8e', '22', '7a', '3b', '2c', '8b', '68', '8a', '98', 'ba',\n",
       "       'bd', '04', '8c', '29', '0f', '6b', 'c2', '92', 'ac', '40', '56',\n",
       "       '34', '20', '30', '54', 'f7', '6a', '1f', 'eb', 'b8', '09', 'b3',\n",
       "       'bb', '60', '7b', '25', 'cb', 'c4', 'e4', '82', 'ca', 'ae', 'dc',\n",
       "       '95', '31', '6c', '23', '44', '50', '62', 'b7', '57', '3e', 'a8',\n",
       "       '71', '52', 'e3', '6d', 'ec', '74', 'fc', '7d', 'b0', '4f', '38',\n",
       "       'd8', 'aa', 'f3', '77', '80', '5f', '65', 'c3', '76', 'e0', '91',\n",
       "       '48', 'dd', 'a0', 'f4', '4c', 'fa', '33', 'bf', '73', 'd4', '5a',\n",
       "       '46', '58', '1b', '42', '9f', '5b', 'b9', '94', '4e', 'd3', 'ea',\n",
       "       'db', '61', 'd6', '78', '4d', 'fe', 'cf', 'b4', '26', '83', '3c',\n",
       "       'b6', '37', '81', '87', '3a', 'a5', '4a', 'b2', '6e', '1e', '7f',\n",
       "       '21', '59', '47', 'c5', '86', '12', '0b', 'd5', '84', 'c6', '2b',\n",
       "       '39', '97', 'a4', 'f2', 'c9', '69', '3d', '06', 'e6', 'ad', 'e5',\n",
       "       '2a', '45', 'e7', '32', '85', 'd2', '79', 'f9', 'ed', 'b1', '67',\n",
       "       'ee', '07', '9c', '9d', 'b5', '35', '41', '99', '03', 'a2', '5e',\n",
       "       '51', 'df', '02', '5d', '66', 'a1', 'a3', 'ab', 'c7', '55', 'be',\n",
       "       '0d', '75', '0a', '49', 'a6', 'ef', 'e2', '6f', 'd7', '63', 'fd',\n",
       "       'da', '53', '72', 'af', 'a7', '27', 'e9', 'c1', 'd1', 'de', '36',\n",
       "       '05', '16', '9e', 'd9'], dtype=object)"
      ]
     },
     "execution_count": 6,
     "metadata": {},
     "output_type": "execute_result"
    }
   ],
   "source": [
    "pd.unique(df['DATA5'])"
   ]
  },
  {
   "cell_type": "code",
   "execution_count": 7,
   "metadata": {},
   "outputs": [
    {
     "data": {
      "text/plain": [
       "257"
      ]
     },
     "execution_count": 7,
     "metadata": {},
     "output_type": "execute_result"
    }
   ],
   "source": [
    "len(pd.unique(df['DATA5']))"
   ]
  },
  {
   "cell_type": "markdown",
   "metadata": {},
   "source": [
    "list of unique values "
   ]
  },
  {
   "cell_type": "code",
   "execution_count": 8,
   "metadata": {},
   "outputs": [
    {
     "data": {
      "image/png": "[encoded data removed]",
      "text/plain": [
       "<Figure size 1008x576 with 1 Axes>"
      ]
     },
     "metadata": {
      "needs_background": "light"
     },
     "output_type": "display_data"
    }
   ],
   "source": [
    "ax = df['Attack_Type'].value_counts().plot(kind='bar',\n",
    "                                    figsize=(14,8),\n",
    "                                    title=\"Number of Attacks\")\n",
    "ax.set_xlabel(\"Type of attacks\")\n",
    "ax.set_ylabel(\"Number of data points\")\n",
    "plt.show()\n",
    "\n"
   ]
  },
  {
   "cell_type": "markdown",
   "metadata": {},
   "source": [
    "Grpahs shows number of differnt attacks in data points \n"
   ]
  },
  {
   "cell_type": "code",
   "execution_count": 9,
   "metadata": {},
   "outputs": [
    {
     "data": {
      "text/plain": [
       "<AxesSubplot:>"
      ]
     },
     "execution_count": 9,
     "metadata": {},
     "output_type": "execute_result"
    },
    {
     "data": {
      "image/png": "[encoded data removed]",
      "text/plain": [
       "<Figure size 720x360 with 3 Axes>"
      ]
     },
     "metadata": {
      "needs_background": "light"
     },
     "output_type": "display_data"
    }
   ],
   "source": [
    "import missingno as msno\n",
    "msno.bar(df,figsize=(10,5))"
   ]
  },
  {
   "cell_type": "markdown",
   "metadata": {},
   "source": [
    "Grpah shows number of non empty attributes and it clear that there are empty values in dataframe. "
   ]
  },
  {
   "cell_type": "code",
   "execution_count": 10,
   "metadata": {},
   "outputs": [
    {
     "name": "stdout",
     "output_type": "stream",
     "text": [
      "percentage of nan values in Data0 column in train data 3.449\n",
      "percentage of nan values in Data1 column in train data 3.449\n",
      "percentage of nan values in Data2 column in train data 3.657\n",
      "percentage of nan values in Data3 column in train data 3.994\n",
      "percentage of nan values in Data4 column in train data 4.765\n",
      "percentage of nan values in Data5 column in train data 8.408\n",
      "percentage of nan values in Data6 column in train data 8.408\n",
      "percentage of nan values in Data7 column in train data 8.408\n"
     ]
    }
   ],
   "source": [
    "print(\"percentage of nan values in Data0 column in train data\", round(df['DATA0'].isnull().sum()*100/len(df),3))\n",
    "print(\"percentage of nan values in Data1 column in train data\", round(df['DATA1'].isnull().sum()*100/len(df),3))\n",
    "print(\"percentage of nan values in Data2 column in train data\", round(df['DATA2'].isnull().sum()*100/len(df),3))\n",
    "print(\"percentage of nan values in Data3 column in train data\", round(df['DATA3'].isnull().sum()*100/len(df),3))\n",
    "print(\"percentage of nan values in Data4 column in train data\", round(df['DATA4'].isnull().sum()*100/len(df),3))\n",
    "print(\"percentage of nan values in Data5 column in train data\", round(df['DATA5'].isnull().sum()*100/len(df),3))\n",
    "print(\"percentage of nan values in Data6 column in train data\", round(df['DATA6'].isnull().sum()*100/len(df),3))\n",
    "print(\"percentage of nan values in Data7 column in train data\", round(df['DATA7'].isnull().sum()*100/len(df),3))"
   ]
  },
  {
   "cell_type": "markdown",
   "metadata": {},
   "source": [
    "Above graph shows null values in data sets, number of variables in column to column and it shows number of not null values. null values must be filled and this issues is due to number of data points. It is also important for filling null value which does not effects analysis. \"NO\" will be used for filling null values. "
   ]
  },
  {
   "cell_type": "code",
   "execution_count": null,
   "metadata": {},
   "outputs": [],
   "source": []
  },
  {
   "cell_type": "code",
   "execution_count": 11,
   "metadata": {},
   "outputs": [],
   "source": [
    "df.fillna(\"NO\", inplace = True)"
   ]
  },
  {
   "cell_type": "code",
   "execution_count": 12,
   "metadata": {},
   "outputs": [
    {
     "data": {
      "text/plain": [
       "<AxesSubplot:>"
      ]
     },
     "execution_count": 12,
     "metadata": {},
     "output_type": "execute_result"
    },
    {
     "data": {
      "image/png": "[encoded data removed]",
      "text/plain": [
       "<Figure size 720x360 with 3 Axes>"
      ]
     },
     "metadata": {
      "needs_background": "light"
     },
     "output_type": "display_data"
    }
   ],
   "source": [
    "import missingno as msno\n",
    "msno.bar(df,figsize=(10,5))"
   ]
  },
  {
   "cell_type": "code",
   "execution_count": 13,
   "metadata": {},
   "outputs": [
    {
     "data": {
      "text/plain": [
       "257"
      ]
     },
     "execution_count": 13,
     "metadata": {},
     "output_type": "execute_result"
    }
   ],
   "source": [
    "len(pd.unique(df['DATA5']))"
   ]
  },
  {
   "cell_type": "markdown",
   "metadata": {},
   "source": [
    "    Till now data points are viewed as individual points. to get full insight, it is neccessary to observer data pattrens and this can be done by adding data points into single attribute and find pattrens "
   ]
  },
  {
   "cell_type": "code",
   "execution_count": 14,
   "metadata": {},
   "outputs": [
    {
     "name": "stdout",
     "output_type": "stream",
     "text": [
      "percentage of nan values in Data0 column in train data 0.0\n",
      "percentage of nan values in Data1 column in train data 0.0\n",
      "percentage of nan values in Data2 column in train data 0.0\n",
      "percentage of nan values in Data3 column in train data 0.0\n",
      "percentage of nan values in Data4 column in train data 0.0\n",
      "percentage of nan values in Data5 column in train data 0.0\n",
      "percentage of nan values in Data6 column in train data 0.0\n",
      "percentage of nan values in Data7 column in train data 0.0\n"
     ]
    }
   ],
   "source": [
    "print(\"percentage of nan values in Data0 column in train data\", round(df['DATA0'].isnull().sum()*100/len(df),3))\n",
    "print(\"percentage of nan values in Data1 column in train data\", round(df['DATA1'].isnull().sum()*100/len(df),3))\n",
    "print(\"percentage of nan values in Data2 column in train data\", round(df['DATA2'].isnull().sum()*100/len(df),3))\n",
    "print(\"percentage of nan values in Data3 column in train data\", round(df['DATA3'].isnull().sum()*100/len(df),3))\n",
    "print(\"percentage of nan values in Data4 column in train data\", round(df['DATA4'].isnull().sum()*100/len(df),3))\n",
    "print(\"percentage of nan values in Data5 column in train data\", round(df['DATA5'].isnull().sum()*100/len(df),3))\n",
    "print(\"percentage of nan values in Data6 column in train data\", round(df['DATA6'].isnull().sum()*100/len(df),3))\n",
    "print(\"percentage of nan values in Data7 column in train data\", round(df['DATA7'].isnull().sum()*100/len(df),3))\n"
   ]
  },
  {
   "cell_type": "markdown",
   "metadata": {},
   "source": [
    "most of data is categorical data and it is not ideal for data anysis and machine model. using label encioder data is converted inti numerical values for esay calculation"
   ]
  },
  {
   "cell_type": "code",
   "execution_count": 15,
   "metadata": {},
   "outputs": [],
   "source": [
    "from sklearn import preprocessing"
   ]
  },
  {
   "cell_type": "code",
   "execution_count": 16,
   "metadata": {},
   "outputs": [],
   "source": [
    "le = preprocessing.LabelEncoder()\n",
    "le.fit(df['ID'])\n",
    "\n",
    "df['ID'] = le.transform(df['ID'])"
   ]
  },
  {
   "cell_type": "code",
   "execution_count": 17,
   "metadata": {},
   "outputs": [],
   "source": [
    "le = preprocessing.LabelEncoder()\n",
    "le.fit(df['DLC'])\n",
    "\n",
    "df['DLC'] = le.transform(df['DLC'])"
   ]
  },
  {
   "cell_type": "code",
   "execution_count": 18,
   "metadata": {},
   "outputs": [],
   "source": [
    "le = preprocessing.LabelEncoder()\n",
    "le.fit(df['DATA0'])\n",
    "\n",
    "df['DATA0'] = le.transform(df['DATA0'])"
   ]
  },
  {
   "cell_type": "code",
   "execution_count": 19,
   "metadata": {},
   "outputs": [],
   "source": [
    "le = preprocessing.LabelEncoder()\n",
    "le.fit(df['DATA1'])\n",
    "\n",
    "df['DATA1'] = le.transform(df['DATA1'])"
   ]
  },
  {
   "cell_type": "code",
   "execution_count": 20,
   "metadata": {},
   "outputs": [],
   "source": [
    "le = preprocessing.LabelEncoder()\n",
    "le.fit(df['DATA2'])\n",
    "\n",
    "df['DATA2'] = le.transform(df['DATA2'])"
   ]
  },
  {
   "cell_type": "code",
   "execution_count": 21,
   "metadata": {},
   "outputs": [],
   "source": [
    "le = preprocessing.LabelEncoder()\n",
    "le.fit(df['DATA3'])\n",
    "\n",
    "df['DATA3'] = le.transform(df['DATA3'])"
   ]
  },
  {
   "cell_type": "code",
   "execution_count": 22,
   "metadata": {},
   "outputs": [],
   "source": [
    "le = preprocessing.LabelEncoder()\n",
    "le.fit(df['DATA4'])\n",
    "\n",
    "df['DATA4'] = le.transform(df['DATA4'])"
   ]
  },
  {
   "cell_type": "code",
   "execution_count": 23,
   "metadata": {},
   "outputs": [],
   "source": [
    "le = preprocessing.LabelEncoder()\n",
    "le.fit(df['DATA5'])\n",
    "\n",
    "df['DATA5'] = le.transform(df['DATA5'])"
   ]
  },
  {
   "cell_type": "code",
   "execution_count": 24,
   "metadata": {},
   "outputs": [],
   "source": [
    "le = preprocessing.LabelEncoder()\n",
    "le.fit(df['DATA6'])\n",
    "\n",
    "df['DATA6'] = le.transform(df['DATA6'])"
   ]
  },
  {
   "cell_type": "code",
   "execution_count": 25,
   "metadata": {},
   "outputs": [],
   "source": [
    "le = preprocessing.LabelEncoder()\n",
    "le.fit(df['DATA7'])\n",
    "\n",
    "df['DATA7'] = le.transform(df['DATA7'])\n"
   ]
  },
  {
   "cell_type": "code",
   "execution_count": 26,
   "metadata": {},
   "outputs": [],
   "source": [
    "le = preprocessing.LabelEncoder()\n",
    "le.fit(df['Attack_Type'])\n",
    "\n",
    "df['Attack_Type'] = le.transform(df['Attack_Type'])\n",
    "\n"
   ]
  },
  {
   "cell_type": "markdown",
   "metadata": {},
   "source": [
    "Checking correlation between input and output attributes using f score. F-score is method for calculating correlations. for that daraframe is spliited into input and output variable and training and testing data"
   ]
  },
  {
   "cell_type": "code",
   "execution_count": 27,
   "metadata": {},
   "outputs": [],
   "source": [
    "from sklearn.model_selection import train_test_split\n",
    "training_set, test_set = train_test_split(df, test_size = 0.2, random_state = 1)\n",
    "\n",
    "x_train = training_set.drop(['Attack_Type'], axis = 1)\n",
    "\n",
    "x_test = test_set.drop(['Attack_Type'], axis = 1)\n",
    "\n",
    "y_train = training_set['Attack_Type']\n",
    "y_test = test_set['Attack_Type']"
   ]
  },
  {
   "cell_type": "markdown",
   "metadata": {},
   "source": [
    "calucating f score using selectk best and f_classif"
   ]
  },
  {
   "cell_type": "code",
   "execution_count": 28,
   "metadata": {},
   "outputs": [],
   "source": [
    "\n",
    "from sklearn.feature_selection import SelectKBest\n",
    "from sklearn.feature_selection import f_classif\n",
    "from matplotlib import pyplot\n",
    "\n",
    "fs = SelectKBest(score_func=f_classif, k='all')\n",
    "\n",
    "fs.fit(x_train, y_train)\n",
    "\n",
    "X_train_fs = fs.transform(x_train)\n",
    "\n",
    "X_train_fs\n",
    "\n",
    "X_test_fs = fs.transform(x_test)\n",
    "\n",
    "\n"
   ]
  },
  {
   "cell_type": "markdown",
   "metadata": {},
   "source": [
    "score of features is given below and it is listed as index values (same pattren as data frame)"
   ]
  },
  {
   "cell_type": "code",
   "execution_count": 29,
   "metadata": {},
   "outputs": [
    {
     "name": "stdout",
     "output_type": "stream",
     "text": [
      "Feature 0: 2854.190851\n",
      "Feature 1: 109.826562\n",
      "Feature 2: 589.640452\n",
      "Feature 3: 608.324957\n",
      "Feature 4: 793.227301\n",
      "Feature 5: 629.438245\n",
      "Feature 6: 589.957915\n",
      "Feature 7: 666.862248\n",
      "Feature 8: 970.832487\n",
      "Feature 9: 781.844645\n"
     ]
    }
   ],
   "source": [
    "for i in range(len(fs.scores_)):\n",
    "\tprint('Feature %d: %f' % (i, fs.scores_[i]))\n",
    "    \n",
    "\n",
    "\n"
   ]
  },
  {
   "cell_type": "markdown",
   "metadata": {},
   "source": [
    "grpah showing score of features"
   ]
  },
  {
   "cell_type": "code",
   "execution_count": 30,
   "metadata": {},
   "outputs": [
    {
     "data": {
      "image/png": "[encoded data removed]",
      "text/plain": [
       "<Figure size 432x288 with 1 Axes>"
      ]
     },
     "metadata": {
      "needs_background": "light"
     },
     "output_type": "display_data"
    }
   ],
   "source": [
    "pyplot.bar([i for i in range(len(fs.scores_))], fs.scores_)\n",
    "pyplot.show()"
   ]
  },
  {
   "cell_type": "markdown",
   "metadata": {},
   "source": [
    "calculating correlation using extratreesclassifer and this model training model and using testing data score of importance is given"
   ]
  },
  {
   "cell_type": "code",
   "execution_count": 31,
   "metadata": {},
   "outputs": [
    {
     "name": "stdout",
     "output_type": "stream",
     "text": [
      "[0.21127061 0.02282615 0.11326066 0.12904804 0.13964456 0.06151353\n",
      " 0.08763091 0.10096775 0.07391335 0.05992444]\n"
     ]
    }
   ],
   "source": [
    "from sklearn.ensemble import ExtraTreesClassifier\n",
    "import matplotlib.pyplot as plt\n",
    "model = ExtraTreesClassifier()\n",
    "model.fit(x_train, y_train)\n",
    "print(model.feature_importances_) \n",
    "\n",
    "\n"
   ]
  },
  {
   "cell_type": "markdown",
   "metadata": {},
   "source": [
    "this grpahs shows list of attribute with score and it is data 7 and data 3 add less values in proeduction and it can be removed for increasing prediction and rediuing computation load\n"
   ]
  },
  {
   "cell_type": "code",
   "execution_count": 32,
   "metadata": {},
   "outputs": [
    {
     "data": {
      "image/png": "[encoded data removed]",
      "text/plain": [
       "<Figure size 432x288 with 1 Axes>"
      ]
     },
     "metadata": {
      "needs_background": "light"
     },
     "output_type": "display_data"
    }
   ],
   "source": [
    "feat_importances = pd.Series(model.feature_importances_, index=x_train.columns)\n",
    "feat_importances.nlargest(9).plot(kind='barh')\n",
    "plt.show()"
   ]
  },
  {
   "cell_type": "code",
   "execution_count": null,
   "metadata": {},
   "outputs": [],
   "source": []
  },
  {
   "cell_type": "markdown",
   "metadata": {},
   "source": [
    "from statsmodels.graphics.mosaicplot import mosaic\n",
    "plt.rcParams['font.size'] = 16.0\n",
    "mosaic(df, ['Attack_Type', 'DATA0']);"
   ]
  },
  {
   "cell_type": "code",
   "execution_count": 33,
   "metadata": {},
   "outputs": [
    {
     "data": {
      "text/html": [
       "<div>\n",
       "<style scoped>\n",
       "    .dataframe tbody tr th:only-of-type {\n",
       "        vertical-align: middle;\n",
       "    }\n",
       "\n",
       "    .dataframe tbody tr th {\n",
       "        vertical-align: top;\n",
       "    }\n",
       "\n",
       "    .dataframe thead th {\n",
       "        text-align: right;\n",
       "    }\n",
       "</style>\n",
       "<table border=\"1\" class=\"dataframe\">\n",
       "  <thead>\n",
       "    <tr style=\"text-align: right;\">\n",
       "      <th></th>\n",
       "      <th>ID</th>\n",
       "      <th>DLC</th>\n",
       "      <th>DATA0</th>\n",
       "      <th>DATA1</th>\n",
       "      <th>DATA2</th>\n",
       "      <th>DATA3</th>\n",
       "      <th>DATA4</th>\n",
       "      <th>DATA5</th>\n",
       "      <th>DATA6</th>\n",
       "      <th>DATA7</th>\n",
       "      <th>Attack_Type</th>\n",
       "    </tr>\n",
       "  </thead>\n",
       "  <tbody>\n",
       "    <tr>\n",
       "      <th>count</th>\n",
       "      <td>36180.000000</td>\n",
       "      <td>36180.000000</td>\n",
       "      <td>36180.000000</td>\n",
       "      <td>36180.000000</td>\n",
       "      <td>36180.000000</td>\n",
       "      <td>36180.000000</td>\n",
       "      <td>36180.000000</td>\n",
       "      <td>36180.000000</td>\n",
       "      <td>36180.000000</td>\n",
       "      <td>36180.000000</td>\n",
       "      <td>36180.000000</td>\n",
       "    </tr>\n",
       "    <tr>\n",
       "      <th>mean</th>\n",
       "      <td>23.581177</td>\n",
       "      <td>4.757269</td>\n",
       "      <td>70.383637</td>\n",
       "      <td>60.219956</td>\n",
       "      <td>67.434522</td>\n",
       "      <td>63.385766</td>\n",
       "      <td>66.480652</td>\n",
       "      <td>57.211028</td>\n",
       "      <td>47.186871</td>\n",
       "      <td>61.861498</td>\n",
       "      <td>0.510392</td>\n",
       "    </tr>\n",
       "    <tr>\n",
       "      <th>std</th>\n",
       "      <td>13.200582</td>\n",
       "      <td>0.966568</td>\n",
       "      <td>93.171351</td>\n",
       "      <td>76.391080</td>\n",
       "      <td>80.715367</td>\n",
       "      <td>84.849744</td>\n",
       "      <td>92.307671</td>\n",
       "      <td>80.865920</td>\n",
       "      <td>69.734771</td>\n",
       "      <td>77.628210</td>\n",
       "      <td>0.760038</td>\n",
       "    </tr>\n",
       "    <tr>\n",
       "      <th>min</th>\n",
       "      <td>0.000000</td>\n",
       "      <td>0.000000</td>\n",
       "      <td>0.000000</td>\n",
       "      <td>0.000000</td>\n",
       "      <td>0.000000</td>\n",
       "      <td>0.000000</td>\n",
       "      <td>0.000000</td>\n",
       "      <td>0.000000</td>\n",
       "      <td>0.000000</td>\n",
       "      <td>0.000000</td>\n",
       "      <td>0.000000</td>\n",
       "    </tr>\n",
       "    <tr>\n",
       "      <th>25%</th>\n",
       "      <td>15.000000</td>\n",
       "      <td>5.000000</td>\n",
       "      <td>0.000000</td>\n",
       "      <td>0.000000</td>\n",
       "      <td>0.000000</td>\n",
       "      <td>0.000000</td>\n",
       "      <td>0.000000</td>\n",
       "      <td>0.000000</td>\n",
       "      <td>0.000000</td>\n",
       "      <td>0.000000</td>\n",
       "      <td>0.000000</td>\n",
       "    </tr>\n",
       "    <tr>\n",
       "      <th>50%</th>\n",
       "      <td>24.000000</td>\n",
       "      <td>5.000000</td>\n",
       "      <td>11.000000</td>\n",
       "      <td>23.000000</td>\n",
       "      <td>16.000000</td>\n",
       "      <td>9.000000</td>\n",
       "      <td>12.000000</td>\n",
       "      <td>12.000000</td>\n",
       "      <td>8.000000</td>\n",
       "      <td>16.000000</td>\n",
       "      <td>0.000000</td>\n",
       "    </tr>\n",
       "    <tr>\n",
       "      <th>75%</th>\n",
       "      <td>33.000000</td>\n",
       "      <td>5.000000</td>\n",
       "      <td>158.000000</td>\n",
       "      <td>128.000000</td>\n",
       "      <td>127.000000</td>\n",
       "      <td>138.000000</td>\n",
       "      <td>131.000000</td>\n",
       "      <td>124.000000</td>\n",
       "      <td>82.000000</td>\n",
       "      <td>132.000000</td>\n",
       "      <td>1.000000</td>\n",
       "    </tr>\n",
       "    <tr>\n",
       "      <th>max</th>\n",
       "      <td>54.000000</td>\n",
       "      <td>5.000000</td>\n",
       "      <td>256.000000</td>\n",
       "      <td>256.000000</td>\n",
       "      <td>256.000000</td>\n",
       "      <td>256.000000</td>\n",
       "      <td>256.000000</td>\n",
       "      <td>256.000000</td>\n",
       "      <td>256.000000</td>\n",
       "      <td>256.000000</td>\n",
       "      <td>2.000000</td>\n",
       "    </tr>\n",
       "  </tbody>\n",
       "</table>\n",
       "</div>"
      ],
      "text/plain": [
       "                 ID           DLC         DATA0         DATA1         DATA2  \\\n",
       "count  36180.000000  36180.000000  36180.000000  36180.000000  36180.000000   \n",
       "mean      23.581177      4.757269     70.383637     60.219956     67.434522   \n",
       "std       13.200582      0.966568     93.171351     76.391080     80.715367   \n",
       "min        0.000000      0.000000      0.000000      0.000000      0.000000   \n",
       "25%       15.000000      5.000000      0.000000      0.000000      0.000000   \n",
       "50%       24.000000      5.000000     11.000000     23.000000     16.000000   \n",
       "75%       33.000000      5.000000    158.000000    128.000000    127.000000   \n",
       "max       54.000000      5.000000    256.000000    256.000000    256.000000   \n",
       "\n",
       "              DATA3         DATA4         DATA5         DATA6         DATA7  \\\n",
       "count  36180.000000  36180.000000  36180.000000  36180.000000  36180.000000   \n",
       "mean      63.385766     66.480652     57.211028     47.186871     61.861498   \n",
       "std       84.849744     92.307671     80.865920     69.734771     77.628210   \n",
       "min        0.000000      0.000000      0.000000      0.000000      0.000000   \n",
       "25%        0.000000      0.000000      0.000000      0.000000      0.000000   \n",
       "50%        9.000000     12.000000     12.000000      8.000000     16.000000   \n",
       "75%      138.000000    131.000000    124.000000     82.000000    132.000000   \n",
       "max      256.000000    256.000000    256.000000    256.000000    256.000000   \n",
       "\n",
       "        Attack_Type  \n",
       "count  36180.000000  \n",
       "mean       0.510392  \n",
       "std        0.760038  \n",
       "min        0.000000  \n",
       "25%        0.000000  \n",
       "50%        0.000000  \n",
       "75%        1.000000  \n",
       "max        2.000000  "
      ]
     },
     "execution_count": 33,
     "metadata": {},
     "output_type": "execute_result"
    }
   ],
   "source": [
    "df.describe()"
   ]
  },
  {
   "cell_type": "code",
   "execution_count": 34,
   "metadata": {},
   "outputs": [
    {
     "data": {
      "text/plain": [
       "<AxesSubplot:>"
      ]
     },
     "execution_count": 34,
     "metadata": {},
     "output_type": "execute_result"
    },
    {
     "data": {
      "image/png": "[encoded data removed]",
      "text/plain": [
       "<Figure size 432x288 with 1 Axes>"
      ]
     },
     "metadata": {
      "needs_background": "light"
     },
     "output_type": "display_data"
    }
   ],
   "source": [
    "df['DATA0'].value_counts(sort=False).plot.bar(rot=0)"
   ]
  },
  {
   "cell_type": "code",
   "execution_count": 35,
   "metadata": {},
   "outputs": [
    {
     "data": {
      "text/html": [
       "<div>\n",
       "<style scoped>\n",
       "    .dataframe tbody tr th:only-of-type {\n",
       "        vertical-align: middle;\n",
       "    }\n",
       "\n",
       "    .dataframe tbody tr th {\n",
       "        vertical-align: top;\n",
       "    }\n",
       "\n",
       "    .dataframe thead th {\n",
       "        text-align: right;\n",
       "    }\n",
       "</style>\n",
       "<table border=\"1\" class=\"dataframe\">\n",
       "  <thead>\n",
       "    <tr style=\"text-align: right;\">\n",
       "      <th></th>\n",
       "      <th>ID</th>\n",
       "      <th>DLC</th>\n",
       "      <th>DATA0</th>\n",
       "      <th>DATA1</th>\n",
       "      <th>DATA2</th>\n",
       "      <th>DATA3</th>\n",
       "      <th>DATA4</th>\n",
       "      <th>DATA5</th>\n",
       "      <th>DATA6</th>\n",
       "      <th>DATA7</th>\n",
       "      <th>Attack_Type</th>\n",
       "    </tr>\n",
       "  </thead>\n",
       "  <tbody>\n",
       "    <tr>\n",
       "      <th>0</th>\n",
       "      <td>24</td>\n",
       "      <td>5</td>\n",
       "      <td>2</td>\n",
       "      <td>0</td>\n",
       "      <td>100</td>\n",
       "      <td>157</td>\n",
       "      <td>220</td>\n",
       "      <td>12</td>\n",
       "      <td>187</td>\n",
       "      <td>2</td>\n",
       "      <td>0</td>\n",
       "    </tr>\n",
       "    <tr>\n",
       "      <th>1</th>\n",
       "      <td>15</td>\n",
       "      <td>5</td>\n",
       "      <td>0</td>\n",
       "      <td>8</td>\n",
       "      <td>0</td>\n",
       "      <td>0</td>\n",
       "      <td>0</td>\n",
       "      <td>0</td>\n",
       "      <td>6</td>\n",
       "      <td>14</td>\n",
       "      <td>0</td>\n",
       "    </tr>\n",
       "    <tr>\n",
       "      <th>2</th>\n",
       "      <td>18</td>\n",
       "      <td>5</td>\n",
       "      <td>0</td>\n",
       "      <td>52</td>\n",
       "      <td>23</td>\n",
       "      <td>0</td>\n",
       "      <td>0</td>\n",
       "      <td>63</td>\n",
       "      <td>0</td>\n",
       "      <td>0</td>\n",
       "      <td>1</td>\n",
       "    </tr>\n",
       "    <tr>\n",
       "      <th>3</th>\n",
       "      <td>32</td>\n",
       "      <td>5</td>\n",
       "      <td>64</td>\n",
       "      <td>255</td>\n",
       "      <td>15</td>\n",
       "      <td>0</td>\n",
       "      <td>0</td>\n",
       "      <td>0</td>\n",
       "      <td>0</td>\n",
       "      <td>8</td>\n",
       "      <td>2</td>\n",
       "    </tr>\n",
       "    <tr>\n",
       "      <th>4</th>\n",
       "      <td>45</td>\n",
       "      <td>5</td>\n",
       "      <td>217</td>\n",
       "      <td>13</td>\n",
       "      <td>0</td>\n",
       "      <td>139</td>\n",
       "      <td>16</td>\n",
       "      <td>0</td>\n",
       "      <td>16</td>\n",
       "      <td>0</td>\n",
       "      <td>0</td>\n",
       "    </tr>\n",
       "  </tbody>\n",
       "</table>\n",
       "</div>"
      ],
      "text/plain": [
       "   ID  DLC  DATA0  DATA1  DATA2  DATA3  DATA4  DATA5  DATA6  DATA7  \\\n",
       "0  24    5      2      0    100    157    220     12    187      2   \n",
       "1  15    5      0      8      0      0      0      0      6     14   \n",
       "2  18    5      0     52     23      0      0     63      0      0   \n",
       "3  32    5     64    255     15      0      0      0      0      8   \n",
       "4  45    5    217     13      0    139     16      0     16      0   \n",
       "\n",
       "   Attack_Type  \n",
       "0            0  \n",
       "1            0  \n",
       "2            1  \n",
       "3            2  \n",
       "4            0  "
      ]
     },
     "execution_count": 35,
     "metadata": {},
     "output_type": "execute_result"
    }
   ],
   "source": [
    "df.head()"
   ]
  },
  {
   "cell_type": "markdown",
   "metadata": {},
   "source": [
    "Empty rows are filled value \"NO\" for analysis but this empty values is determined by value in DLC (it is lenght of message). there are 6 kinds of messages with varrying length"
   ]
  },
  {
   "cell_type": "code",
   "execution_count": 36,
   "metadata": {},
   "outputs": [
    {
     "data": {
      "text/html": [
       "<div>\n",
       "<style scoped>\n",
       "    .dataframe tbody tr th:only-of-type {\n",
       "        vertical-align: middle;\n",
       "    }\n",
       "\n",
       "    .dataframe tbody tr th {\n",
       "        vertical-align: top;\n",
       "    }\n",
       "\n",
       "    .dataframe thead th {\n",
       "        text-align: right;\n",
       "    }\n",
       "</style>\n",
       "<table border=\"1\" class=\"dataframe\">\n",
       "  <thead>\n",
       "    <tr style=\"text-align: right;\">\n",
       "      <th></th>\n",
       "      <th>ID</th>\n",
       "      <th>DLC</th>\n",
       "      <th>DATA0</th>\n",
       "      <th>DATA1</th>\n",
       "      <th>DATA2</th>\n",
       "      <th>DATA3</th>\n",
       "      <th>DATA4</th>\n",
       "      <th>DATA5</th>\n",
       "      <th>DATA6</th>\n",
       "      <th>DATA7</th>\n",
       "      <th>Attack_Type</th>\n",
       "    </tr>\n",
       "  </thead>\n",
       "  <tbody>\n",
       "    <tr>\n",
       "      <th>0</th>\n",
       "      <td>02a0000</td>\n",
       "      <td>8</td>\n",
       "      <td>02</td>\n",
       "      <td>00</td>\n",
       "      <td>64</td>\n",
       "      <td>9d</td>\n",
       "      <td>db</td>\n",
       "      <td>0c</td>\n",
       "      <td>ba</td>\n",
       "      <td>02</td>\n",
       "      <td>Attack_free</td>\n",
       "    </tr>\n",
       "    <tr>\n",
       "      <th>1</th>\n",
       "      <td>0164000</td>\n",
       "      <td>8</td>\n",
       "      <td>00</td>\n",
       "      <td>08</td>\n",
       "      <td>00</td>\n",
       "      <td>00</td>\n",
       "      <td>00</td>\n",
       "      <td>00</td>\n",
       "      <td>06</td>\n",
       "      <td>0e</td>\n",
       "      <td>Attack_free</td>\n",
       "    </tr>\n",
       "    <tr>\n",
       "      <th>2</th>\n",
       "      <td>018f000</td>\n",
       "      <td>8</td>\n",
       "      <td>00</td>\n",
       "      <td>34</td>\n",
       "      <td>17</td>\n",
       "      <td>00</td>\n",
       "      <td>00</td>\n",
       "      <td>3f</td>\n",
       "      <td>00</td>\n",
       "      <td>00</td>\n",
       "      <td>DoS_attack</td>\n",
       "    </tr>\n",
       "    <tr>\n",
       "      <th>3</th>\n",
       "      <td>0382000</td>\n",
       "      <td>8</td>\n",
       "      <td>40</td>\n",
       "      <td>fe</td>\n",
       "      <td>0f</td>\n",
       "      <td>00</td>\n",
       "      <td>00</td>\n",
       "      <td>00</td>\n",
       "      <td>00</td>\n",
       "      <td>08</td>\n",
       "      <td>Fuzzy_attack</td>\n",
       "    </tr>\n",
       "    <tr>\n",
       "      <th>4</th>\n",
       "      <td>0545000</td>\n",
       "      <td>8</td>\n",
       "      <td>d8</td>\n",
       "      <td>0d</td>\n",
       "      <td>00</td>\n",
       "      <td>8b</td>\n",
       "      <td>10</td>\n",
       "      <td>00</td>\n",
       "      <td>10</td>\n",
       "      <td>00</td>\n",
       "      <td>Attack_free</td>\n",
       "    </tr>\n",
       "  </tbody>\n",
       "</table>\n",
       "</div>"
      ],
      "text/plain": [
       "        ID  DLC DATA0 DATA1 DATA2 DATA3 DATA4 DATA5 DATA6 DATA7   Attack_Type\n",
       "0  02a0000    8    02    00    64    9d    db    0c    ba    02   Attack_free\n",
       "1  0164000    8    00    08    00    00    00    00    06    0e   Attack_free\n",
       "2  018f000    8    00    34    17    00    00    3f    00    00    DoS_attack\n",
       "3  0382000    8    40    fe    0f    00    00    00    00    08  Fuzzy_attack\n",
       "4  0545000    8    d8    0d    00    8b    10    00    10    00   Attack_free"
      ]
     },
     "execution_count": 36,
     "metadata": {},
     "output_type": "execute_result"
    }
   ],
   "source": [
    "import pandas as pd\n",
    "df = pd.read_csv('Carsignal.csv')\n",
    "df = df.drop('Unnamed: 0', axis=1)\n",
    "df = df.drop('Timestamp', axis=1)\n",
    "df.head()"
   ]
  },
  {
   "cell_type": "code",
   "execution_count": 37,
   "metadata": {},
   "outputs": [
    {
     "data": {
      "text/plain": [
       "array([8, 0, 4, 5, 2, 3])"
      ]
     },
     "execution_count": 37,
     "metadata": {},
     "output_type": "execute_result"
    }
   ],
   "source": [
    "pd.unique(df['DLC'])"
   ]
  },
  {
   "cell_type": "code",
   "execution_count": 38,
   "metadata": {},
   "outputs": [],
   "source": [
    "df1 = df[df['DLC'] == 0]"
   ]
  },
  {
   "cell_type": "code",
   "execution_count": 39,
   "metadata": {},
   "outputs": [
    {
     "name": "stdout",
     "output_type": "stream",
     "text": [
      "ID                0\n",
      "DLC               0\n",
      "DATA0          1248\n",
      "DATA1          1248\n",
      "DATA2          1248\n",
      "DATA3          1248\n",
      "DATA4          1248\n",
      "DATA5          1248\n",
      "DATA6          1248\n",
      "DATA7          1248\n",
      "Attack_Type       0\n",
      "dtype: int64\n"
     ]
    }
   ],
   "source": [
    "print(df1.isnull().sum())"
   ]
  },
  {
   "cell_type": "code",
   "execution_count": 40,
   "metadata": {},
   "outputs": [
    {
     "data": {
      "text/plain": [
       "<AxesSubplot:>"
      ]
     },
     "execution_count": 40,
     "metadata": {},
     "output_type": "execute_result"
    },
    {
     "data": {
      "image/png": "[encoded data removed]",
      "text/plain": [
       "<Figure size 720x360 with 3 Axes>"
      ]
     },
     "metadata": {
      "needs_background": "light"
     },
     "output_type": "display_data"
    }
   ],
   "source": [
    "import missingno as msno\n",
    "msno.bar(df1,figsize=(10,5))"
   ]
  },
  {
   "cell_type": "code",
   "execution_count": 41,
   "metadata": {},
   "outputs": [],
   "source": [
    "df2 = df[df['DLC'] == 2]"
   ]
  },
  {
   "cell_type": "code",
   "execution_count": 42,
   "metadata": {},
   "outputs": [
    {
     "name": "stdout",
     "output_type": "stream",
     "text": [
      "ID              0\n",
      "DLC             0\n",
      "DATA0           0\n",
      "DATA1           0\n",
      "DATA2          75\n",
      "DATA3          75\n",
      "DATA4          75\n",
      "DATA5          75\n",
      "DATA6          75\n",
      "DATA7          75\n",
      "Attack_Type     0\n",
      "dtype: int64\n"
     ]
    }
   ],
   "source": [
    "print(df2.isnull().sum())"
   ]
  },
  {
   "cell_type": "code",
   "execution_count": 43,
   "metadata": {},
   "outputs": [
    {
     "data": {
      "text/plain": [
       "<AxesSubplot:>"
      ]
     },
     "execution_count": 43,
     "metadata": {},
     "output_type": "execute_result"
    },
    {
     "data": {
      "image/png": "[encoded data removed]",
      "text/plain": [
       "<Figure size 720x360 with 3 Axes>"
      ]
     },
     "metadata": {
      "needs_background": "light"
     },
     "output_type": "display_data"
    }
   ],
   "source": [
    "import missingno as msno\n",
    "msno.bar(df2,figsize=(10,5))"
   ]
  },
  {
   "cell_type": "code",
   "execution_count": 44,
   "metadata": {},
   "outputs": [
    {
     "data": {
      "text/plain": [
       "<AxesSubplot:>"
      ]
     },
     "execution_count": 44,
     "metadata": {},
     "output_type": "execute_result"
    },
    {
     "data": {
      "image/png": "[encoded data removed]",
      "text/plain": [
       "<Figure size 720x360 with 3 Axes>"
      ]
     },
     "metadata": {
      "needs_background": "light"
     },
     "output_type": "display_data"
    }
   ],
   "source": [
    "df3 = df[df['DLC'] == 3]\n",
    "import missingno as msno\n",
    "msno.bar(df3,figsize=(10,5))\n",
    "\n"
   ]
  },
  {
   "cell_type": "code",
   "execution_count": 45,
   "metadata": {},
   "outputs": [
    {
     "data": {
      "image/png": "[encoded data removed]",
      "text/plain": [
       "<Figure size 1008x576 with 1 Axes>"
      ]
     },
     "metadata": {
      "needs_background": "light"
     },
     "output_type": "display_data"
    }
   ],
   "source": [
    "ax = df3['Attack_Type'].value_counts().plot(kind='bar',\n",
    "                                    figsize=(14,8),\n",
    "                                    title=\"Number of Attacks\")\n",
    "ax.set_xlabel(\"Type of attacks\")\n",
    "ax.set_ylabel(\"Frequency\")\n",
    "plt.show()\n",
    "\n"
   ]
  },
  {
   "cell_type": "code",
   "execution_count": 46,
   "metadata": {},
   "outputs": [
    {
     "data": {
      "text/plain": [
       "<AxesSubplot:>"
      ]
     },
     "execution_count": 46,
     "metadata": {},
     "output_type": "execute_result"
    },
    {
     "data": {
      "image/png": "[encoded data removed]",
      "text/plain": [
       "<Figure size 720x360 with 3 Axes>"
      ]
     },
     "metadata": {
      "needs_background": "light"
     },
     "output_type": "display_data"
    }
   ],
   "source": [
    "df4 = df[df['DLC'] == 4]\n",
    "import missingno as msno\n",
    "msno.bar(df4,figsize=(10,5))\n",
    "\n"
   ]
  },
  {
   "cell_type": "code",
   "execution_count": 47,
   "metadata": {},
   "outputs": [
    {
     "data": {
      "text/plain": [
       "<AxesSubplot:>"
      ]
     },
     "execution_count": 47,
     "metadata": {},
     "output_type": "execute_result"
    },
    {
     "data": {
      "image/png": "[encoded data removed]",
      "text/plain": [
       "<Figure size 720x360 with 3 Axes>"
      ]
     },
     "metadata": {
      "needs_background": "light"
     },
     "output_type": "display_data"
    }
   ],
   "source": [
    "df5 = df[df['DLC'] == 5]\n",
    "import missingno as msno\n",
    "msno.bar(df5,figsize=(10,5))\n",
    "\n"
   ]
  },
  {
   "cell_type": "code",
   "execution_count": 48,
   "metadata": {},
   "outputs": [
    {
     "data": {
      "text/plain": [
       "<AxesSubplot:>"
      ]
     },
     "execution_count": 48,
     "metadata": {},
     "output_type": "execute_result"
    },
    {
     "data": {
      "image/png": "[encoded data removed]",
      "text/plain": [
       "<Figure size 720x360 with 3 Axes>"
      ]
     },
     "metadata": {
      "needs_background": "light"
     },
     "output_type": "display_data"
    }
   ],
   "source": [
    "df6 = df[df['DLC'] == 8]\n",
    "import missingno as msno\n",
    "msno.bar(df6,figsize=(10,5))\n",
    "\n"
   ]
  },
  {
   "cell_type": "code",
   "execution_count": 49,
   "metadata": {},
   "outputs": [
    {
     "data": {
      "text/html": [
       "<div>\n",
       "<style scoped>\n",
       "    .dataframe tbody tr th:only-of-type {\n",
       "        vertical-align: middle;\n",
       "    }\n",
       "\n",
       "    .dataframe tbody tr th {\n",
       "        vertical-align: top;\n",
       "    }\n",
       "\n",
       "    .dataframe thead th {\n",
       "        text-align: right;\n",
       "    }\n",
       "</style>\n",
       "<table border=\"1\" class=\"dataframe\">\n",
       "  <thead>\n",
       "    <tr style=\"text-align: right;\">\n",
       "      <th></th>\n",
       "      <th>ID</th>\n",
       "      <th>DLC</th>\n",
       "      <th>DATA0</th>\n",
       "      <th>DATA1</th>\n",
       "      <th>DATA2</th>\n",
       "      <th>DATA3</th>\n",
       "      <th>DATA4</th>\n",
       "      <th>DATA5</th>\n",
       "      <th>DATA6</th>\n",
       "      <th>DATA7</th>\n",
       "      <th>Attack_Type</th>\n",
       "    </tr>\n",
       "  </thead>\n",
       "  <tbody>\n",
       "    <tr>\n",
       "      <th>0</th>\n",
       "      <td>02a0000</td>\n",
       "      <td>8</td>\n",
       "      <td>02</td>\n",
       "      <td>00</td>\n",
       "      <td>64</td>\n",
       "      <td>9d</td>\n",
       "      <td>db</td>\n",
       "      <td>0c</td>\n",
       "      <td>ba</td>\n",
       "      <td>02</td>\n",
       "      <td>Attack_free</td>\n",
       "    </tr>\n",
       "    <tr>\n",
       "      <th>1</th>\n",
       "      <td>0164000</td>\n",
       "      <td>8</td>\n",
       "      <td>00</td>\n",
       "      <td>08</td>\n",
       "      <td>00</td>\n",
       "      <td>00</td>\n",
       "      <td>00</td>\n",
       "      <td>00</td>\n",
       "      <td>06</td>\n",
       "      <td>0e</td>\n",
       "      <td>Attack_free</td>\n",
       "    </tr>\n",
       "    <tr>\n",
       "      <th>2</th>\n",
       "      <td>018f000</td>\n",
       "      <td>8</td>\n",
       "      <td>00</td>\n",
       "      <td>34</td>\n",
       "      <td>17</td>\n",
       "      <td>00</td>\n",
       "      <td>00</td>\n",
       "      <td>3f</td>\n",
       "      <td>00</td>\n",
       "      <td>00</td>\n",
       "      <td>DoS_attack</td>\n",
       "    </tr>\n",
       "    <tr>\n",
       "      <th>3</th>\n",
       "      <td>0382000</td>\n",
       "      <td>8</td>\n",
       "      <td>40</td>\n",
       "      <td>fe</td>\n",
       "      <td>0f</td>\n",
       "      <td>00</td>\n",
       "      <td>00</td>\n",
       "      <td>00</td>\n",
       "      <td>00</td>\n",
       "      <td>08</td>\n",
       "      <td>Fuzzy_attack</td>\n",
       "    </tr>\n",
       "    <tr>\n",
       "      <th>4</th>\n",
       "      <td>0545000</td>\n",
       "      <td>8</td>\n",
       "      <td>d8</td>\n",
       "      <td>0d</td>\n",
       "      <td>00</td>\n",
       "      <td>8b</td>\n",
       "      <td>10</td>\n",
       "      <td>00</td>\n",
       "      <td>10</td>\n",
       "      <td>00</td>\n",
       "      <td>Attack_free</td>\n",
       "    </tr>\n",
       "  </tbody>\n",
       "</table>\n",
       "</div>"
      ],
      "text/plain": [
       "        ID  DLC DATA0 DATA1 DATA2 DATA3 DATA4 DATA5 DATA6 DATA7   Attack_Type\n",
       "0  02a0000    8    02    00    64    9d    db    0c    ba    02   Attack_free\n",
       "1  0164000    8    00    08    00    00    00    00    06    0e   Attack_free\n",
       "2  018f000    8    00    34    17    00    00    3f    00    00    DoS_attack\n",
       "3  0382000    8    40    fe    0f    00    00    00    00    08  Fuzzy_attack\n",
       "4  0545000    8    d8    0d    00    8b    10    00    10    00   Attack_free"
      ]
     },
     "execution_count": 49,
     "metadata": {},
     "output_type": "execute_result"
    }
   ],
   "source": [
    "df.head()"
   ]
  },
  {
   "cell_type": "code",
   "execution_count": 50,
   "metadata": {},
   "outputs": [],
   "source": [
    "df10 = df[df['Attack_Type'] == \"Attack_free\"]"
   ]
  },
  {
   "cell_type": "code",
   "execution_count": 51,
   "metadata": {},
   "outputs": [
    {
     "data": {
      "image/png": "[encoded data removed]",
      "text/plain": [
       "<Figure size 1008x576 with 1 Axes>"
      ]
     },
     "metadata": {
      "needs_background": "light"
     },
     "output_type": "display_data"
    }
   ],
   "source": [
    "ax = df10['DLC'].value_counts().plot(kind='bar',\n",
    "                                    figsize=(14,8),\n",
    "                                    title=\"Number of Attacks\")\n",
    "ax.set_xlabel(\"Type of attacks\")\n",
    "ax.set_ylabel(\"Frequency\")\n",
    "plt.show()"
   ]
  },
  {
   "cell_type": "markdown",
   "metadata": {},
   "source": [
    "data signal is divided into 8 bits and each bit is considered as attribute and data point and this attempt to combone all data points and anaysis results."
   ]
  },
  {
   "cell_type": "code",
   "execution_count": 52,
   "metadata": {},
   "outputs": [],
   "source": [
    "import pandas as pd\n",
    "import numpy as np\n",
    "import matplotlib.pyplot as plt\n",
    "%matplotlib inline\n",
    "from sklearn.cluster import KMeans"
   ]
  },
  {
   "cell_type": "code",
   "execution_count": 53,
   "metadata": {},
   "outputs": [],
   "source": [
    "signal = pd.DataFrame()"
   ]
  },
  {
   "cell_type": "code",
   "execution_count": 54,
   "metadata": {},
   "outputs": [],
   "source": [
    "signal['DATA'] = df['DATA0'] + df['DATA1'] + df['DATA2']+ df['DATA3']+ df['DATA4']+ df['DATA5']+ df['DATA6']+ df['DATA7']"
   ]
  },
  {
   "cell_type": "code",
   "execution_count": 55,
   "metadata": {},
   "outputs": [
    {
     "data": {
      "text/html": [
       "<div>\n",
       "<style scoped>\n",
       "    .dataframe tbody tr th:only-of-type {\n",
       "        vertical-align: middle;\n",
       "    }\n",
       "\n",
       "    .dataframe tbody tr th {\n",
       "        vertical-align: top;\n",
       "    }\n",
       "\n",
       "    .dataframe thead th {\n",
       "        text-align: right;\n",
       "    }\n",
       "</style>\n",
       "<table border=\"1\" class=\"dataframe\">\n",
       "  <thead>\n",
       "    <tr style=\"text-align: right;\">\n",
       "      <th></th>\n",
       "      <th>DATA</th>\n",
       "    </tr>\n",
       "  </thead>\n",
       "  <tbody>\n",
       "    <tr>\n",
       "      <th>0</th>\n",
       "      <td>0200649ddb0cba02</td>\n",
       "    </tr>\n",
       "    <tr>\n",
       "      <th>1</th>\n",
       "      <td>000800000000060e</td>\n",
       "    </tr>\n",
       "    <tr>\n",
       "      <th>2</th>\n",
       "      <td>00341700003f0000</td>\n",
       "    </tr>\n",
       "    <tr>\n",
       "      <th>3</th>\n",
       "      <td>40fe0f0000000008</td>\n",
       "    </tr>\n",
       "    <tr>\n",
       "      <th>4</th>\n",
       "      <td>d80d008b10001000</td>\n",
       "    </tr>\n",
       "  </tbody>\n",
       "</table>\n",
       "</div>"
      ],
      "text/plain": [
       "               DATA\n",
       "0  0200649ddb0cba02\n",
       "1  000800000000060e\n",
       "2  00341700003f0000\n",
       "3  40fe0f0000000008\n",
       "4  d80d008b10001000"
      ]
     },
     "execution_count": 55,
     "metadata": {},
     "output_type": "execute_result"
    }
   ],
   "source": [
    "signal.head()"
   ]
  },
  {
   "cell_type": "code",
   "execution_count": 56,
   "metadata": {},
   "outputs": [],
   "source": [
    "\n",
    "signal['Attack_Type'] = df['Attack_Type']\n",
    "\n"
   ]
  },
  {
   "cell_type": "markdown",
   "metadata": {},
   "source": [
    "signal['DLC'] = df['DLC']\n",
    "signal['ID'] = df['ID']"
   ]
  },
  {
   "cell_type": "code",
   "execution_count": 57,
   "metadata": {},
   "outputs": [
    {
     "data": {
      "text/plain": [
       "(36180, 11)"
      ]
     },
     "execution_count": 57,
     "metadata": {},
     "output_type": "execute_result"
    }
   ],
   "source": [
    "df.shape"
   ]
  },
  {
   "cell_type": "code",
   "execution_count": 58,
   "metadata": {},
   "outputs": [
    {
     "data": {
      "text/plain": [
       "10837"
      ]
     },
     "execution_count": 58,
     "metadata": {},
     "output_type": "execute_result"
    }
   ],
   "source": [
    "len(pd.unique(signal['DATA']))"
   ]
  },
  {
   "cell_type": "code",
   "execution_count": 59,
   "metadata": {},
   "outputs": [
    {
     "data": {
      "image/png": "[encoded data removed]",
      "text/plain": [
       "<Figure size 1152x576 with 2 Axes>"
      ]
     },
     "metadata": {
      "needs_background": "light"
     },
     "output_type": "display_data"
    }
   ],
   "source": [
    "\n",
    "f,ax=plt.subplots(1,2,figsize=(16,8))\n",
    "signal['Attack_Type'].value_counts().sort_values(ascending=True).plot.barh(width=0.9,color=sns.color_palette('afmhot',15),ax=ax[0])\n",
    "signal['DATA'].value_counts().sort_values(ascending=True).plot.barh(width=0.9,color=sns.color_palette('afmhot',15),ax=ax[1])\n",
    "plt.subplots_adjust(wspace=0.8)\n",
    "ax[0].set_title('Attack')\n",
    "ax[1].set_title('Test')\n",
    "plt.show()"
   ]
  },
  {
   "cell_type": "code",
   "execution_count": 60,
   "metadata": {},
   "outputs": [],
   "source": [
    "signal = pd.DataFrame()"
   ]
  },
  {
   "cell_type": "code",
   "execution_count": 61,
   "metadata": {},
   "outputs": [],
   "source": [
    "signal['DATA'] = df['DATA0'] + df['DATA1'] + df['DATA2']+ df['DATA3']+ df['DATA4']+ df['DATA5']+ df['DATA6']+ df['DATA7']"
   ]
  },
  {
   "cell_type": "code",
   "execution_count": 62,
   "metadata": {},
   "outputs": [
    {
     "data": {
      "text/html": [
       "<div>\n",
       "<style scoped>\n",
       "    .dataframe tbody tr th:only-of-type {\n",
       "        vertical-align: middle;\n",
       "    }\n",
       "\n",
       "    .dataframe tbody tr th {\n",
       "        vertical-align: top;\n",
       "    }\n",
       "\n",
       "    .dataframe thead th {\n",
       "        text-align: right;\n",
       "    }\n",
       "</style>\n",
       "<table border=\"1\" class=\"dataframe\">\n",
       "  <thead>\n",
       "    <tr style=\"text-align: right;\">\n",
       "      <th></th>\n",
       "      <th>DATA</th>\n",
       "    </tr>\n",
       "  </thead>\n",
       "  <tbody>\n",
       "    <tr>\n",
       "      <th>0</th>\n",
       "      <td>0200649ddb0cba02</td>\n",
       "    </tr>\n",
       "    <tr>\n",
       "      <th>1</th>\n",
       "      <td>000800000000060e</td>\n",
       "    </tr>\n",
       "    <tr>\n",
       "      <th>2</th>\n",
       "      <td>00341700003f0000</td>\n",
       "    </tr>\n",
       "    <tr>\n",
       "      <th>3</th>\n",
       "      <td>40fe0f0000000008</td>\n",
       "    </tr>\n",
       "    <tr>\n",
       "      <th>4</th>\n",
       "      <td>d80d008b10001000</td>\n",
       "    </tr>\n",
       "  </tbody>\n",
       "</table>\n",
       "</div>"
      ],
      "text/plain": [
       "               DATA\n",
       "0  0200649ddb0cba02\n",
       "1  000800000000060e\n",
       "2  00341700003f0000\n",
       "3  40fe0f0000000008\n",
       "4  d80d008b10001000"
      ]
     },
     "execution_count": 62,
     "metadata": {},
     "output_type": "execute_result"
    }
   ],
   "source": [
    "signal.head()"
   ]
  },
  {
   "cell_type": "code",
   "execution_count": 63,
   "metadata": {},
   "outputs": [],
   "source": [
    "\n",
    "signal['Attack_Type'] = df['Attack_Type']\n",
    "\n"
   ]
  },
  {
   "cell_type": "markdown",
   "metadata": {},
   "source": [
    "signal['DLC'] = df['DLC']\n",
    "signal['ID'] = df['ID']"
   ]
  },
  {
   "cell_type": "code",
   "execution_count": 64,
   "metadata": {},
   "outputs": [
    {
     "data": {
      "text/plain": [
       "(36180, 11)"
      ]
     },
     "execution_count": 64,
     "metadata": {},
     "output_type": "execute_result"
    }
   ],
   "source": [
    "df.shape"
   ]
  },
  {
   "cell_type": "code",
   "execution_count": 65,
   "metadata": {},
   "outputs": [
    {
     "data": {
      "text/plain": [
       "10837"
      ]
     },
     "execution_count": 65,
     "metadata": {},
     "output_type": "execute_result"
    }
   ],
   "source": [
    "len(pd.unique(signal['DATA']))"
   ]
  },
  {
   "cell_type": "code",
   "execution_count": null,
   "metadata": {},
   "outputs": [],
   "source": [
    "\n",
    "f,ax=plt.subplots(1,2,figsize=(16,8))\n",
    "signal['Attack_Type'].value_counts().sort_values(ascending=True).plot.barh(width=0.9,color=sns.color_palette('afmhot',15),ax=ax[0])\n",
    "signal['DATA'].value_counts().sort_values(ascending=True).plot.barh(width=0.9,color=sns.color_palette('afmhot',15),ax=ax[1])\n",
    "plt.subplots_adjust(wspace=0.8)\n",
    "ax[0].set_title('Attack')\n",
    "ax[1].set_title('Test')\n",
    "plt.show()"
   ]
  },
  {
   "cell_type": "code",
   "execution_count": null,
   "metadata": {},
   "outputs": [],
   "source": []
  }
 ],
 "metadata": {
  "kernelspec": {
   "display_name": "Python 3",
   "language": "python",
   "name": "python3"
  },
  "language_info": {
   "codemirror_mode": {
    "name": "ipython",
    "version": 3
   },
   "file_extension": ".py",
   "mimetype": "text/x-python",
   "name": "python",
   "nbconvert_exporter": "python",
   "pygments_lexer": "ipython3",
   "version": "3.8.5"
  }
 },
 "nbformat": 4,
 "nbformat_minor": 4
}
