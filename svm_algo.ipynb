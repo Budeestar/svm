{
  "nbformat": 4,
  "nbformat_minor": 0,
  "metadata": {
    "colab": {
      "name": "svm algo.ipynb",
      "provenance": []
    },
    "kernelspec": {
      "name": "python3",
      "display_name": "Python 3"
    }
  },
  "cells": [
    {
      "cell_type": "code",
      "metadata": {
        "id": "y8uowJTxdFdE",
        "colab_type": "code",
        "colab": {}
      },
      "source": [
        "import numpy as np\n",
        "import matplotlib.pyplot as plt\n",
        "from sklearn.datasets.samples_generator import make_blobs\n",
        "import warnings\n",
        "warnings.filterwarnings(\"ignore\")"
      ],
      "execution_count": 0,
      "outputs": []
    },
    {
      "cell_type": "code",
      "metadata": {
        "id": "-XsIle4N1007",
        "colab_type": "code",
        "outputId": "5ed9f739-2606-44a4-c3d0-58ac879fa442",
        "colab": {
          "base_uri": "https://localhost:8080/",
          "height": 1000
        }
      },
      "source": [
        "help(make_blobs\n",
        "    )"
      ],
      "execution_count": 0,
      "outputs": [
        {
          "output_type": "stream",
          "text": [
            "Help on function make_blobs in module sklearn.datasets._samples_generator:\n",
            "\n",
            "make_blobs(n_samples=100, n_features=2, centers=None, cluster_std=1.0, center_box=(-10.0, 10.0), shuffle=True, random_state=None)\n",
            "    Generate isotropic Gaussian blobs for clustering.\n",
            "    \n",
            "    Read more in the :ref:`User Guide <sample_generators>`.\n",
            "    \n",
            "    Parameters\n",
            "    ----------\n",
            "    n_samples : int or array-like, optional (default=100)\n",
            "        If int, it is the total number of points equally divided among\n",
            "        clusters.\n",
            "        If array-like, each element of the sequence indicates\n",
            "        the number of samples per cluster.\n",
            "    \n",
            "    n_features : int, optional (default=2)\n",
            "        The number of features for each sample.\n",
            "    \n",
            "    centers : int or array of shape [n_centers, n_features], optional\n",
            "        (default=None)\n",
            "        The number of centers to generate, or the fixed center locations.\n",
            "        If n_samples is an int and centers is None, 3 centers are generated.\n",
            "        If n_samples is array-like, centers must be\n",
            "        either None or an array of length equal to the length of n_samples.\n",
            "    \n",
            "    cluster_std : float or sequence of floats, optional (default=1.0)\n",
            "        The standard deviation of the clusters.\n",
            "    \n",
            "    center_box : pair of floats (min, max), optional (default=(-10.0, 10.0))\n",
            "        The bounding box for each cluster center when centers are\n",
            "        generated at random.\n",
            "    \n",
            "    shuffle : boolean, optional (default=True)\n",
            "        Shuffle the samples.\n",
            "    \n",
            "    random_state : int, RandomState instance or None (default)\n",
            "        Determines random number generation for dataset creation. Pass an int\n",
            "        for reproducible output across multiple function calls.\n",
            "        See :term:`Glossary <random_state>`.\n",
            "    \n",
            "    Returns\n",
            "    -------\n",
            "    X : array of shape [n_samples, n_features]\n",
            "        The generated samples.\n",
            "    \n",
            "    y : array of shape [n_samples]\n",
            "        The integer labels for cluster membership of each sample.\n",
            "    \n",
            "    Examples\n",
            "    --------\n",
            "    >>> from sklearn.datasets import make_blobs\n",
            "    >>> X, y = make_blobs(n_samples=10, centers=3, n_features=2,\n",
            "    ...                   random_state=0)\n",
            "    >>> print(X.shape)\n",
            "    (10, 2)\n",
            "    >>> y\n",
            "    array([0, 0, 1, 0, 2, 2, 2, 1, 1, 0])\n",
            "    >>> X, y = make_blobs(n_samples=[3, 3, 4], centers=None, n_features=2,\n",
            "    ...                   random_state=0)\n",
            "    >>> print(X.shape)\n",
            "    (10, 2)\n",
            "    >>> y\n",
            "    array([0, 1, 2, 0, 2, 2, 2, 1, 1, 0])\n",
            "    \n",
            "    See also\n",
            "    --------\n",
            "    make_classification: a more intricate variant\n",
            "\n"
          ],
          "name": "stdout"
        }
      ]
    },
    {
      "cell_type": "code",
      "metadata": {
        "id": "QPHfoxiD14RZ",
        "colab_type": "code",
        "outputId": "dec88c39-7ff8-4596-c315-8ae2566993a9",
        "colab": {
          "base_uri": "https://localhost:8080/",
          "height": 265
        }
      },
      "source": [
        "X,y=make_blobs(n_samples=50,centers=2,random_state=0,cluster_std=0.6)\n",
        "plt.scatter(X[:,0],X[:,1],c=y,s=50,cmap='autumn')\n",
        "plt.show()"
      ],
      "execution_count": 0,
      "outputs": [
        {
          "output_type": "display_data",
          "data": {
            "image/png": "[encoded data removed]",
            "text/plain": [
              "<Figure size 432x288 with 1 Axes>"
            ]
          },
          "metadata": {
            "tags": [],
            "needs_background": "light"
          }
        }
      ]
    },
    {
      "cell_type": "code",
      "metadata": {
        "id": "i310-S4x2e3_",
        "colab_type": "code",
        "outputId": "2a6bed34-815f-4f98-95ed-679a90583bb5",
        "colab": {
          "base_uri": "https://localhost:8080/",
          "height": 282
        }
      },
      "source": [
        "xfit=np.linspace(-1,3.5)\n",
        "plt.scatter(X[:,0],X[:,1],c=y,s=50,cmap='autumn')\n",
        "for m,b,d in[(1,0.65,0.33),(0.5,1.6,0.55),(-0.2,2.9,0.2)]:\n",
        "  yfit=m*xfit+b\n",
        "  plt.plot(xfit,yfit,'k')\n",
        "  plt.fill_between(xfit,yfit-d,yfit+d,color='b',alpha=0.4)\n",
        "\n",
        "plt.xlim(-1,3.5)"
      ],
      "execution_count": 0,
      "outputs": [
        {
          "output_type": "execute_result",
          "data": {
            "text/plain": [
              "(-1.0, 3.5)"
            ]
          },
          "metadata": {
            "tags": []
          },
          "execution_count": 7
        },
        {
          "output_type": "display_data",
          "data": {
            "image/png": "[encoded data removed]",
            "text/plain": [
              "<Figure size 432x288 with 1 Axes>"
            ]
          },
          "metadata": {
            "tags": [],
            "needs_background": "light"
          }
        }
      ]
    },
    {
      "cell_type": "code",
      "metadata": {
        "id": "Q3smKTQi4xzL",
        "colab_type": "code",
        "colab": {}
      },
      "source": [
        "from sklearn.svm import SVC\n",
        "model=SVC(kernel='linear',C=1)"
      ],
      "execution_count": 0,
      "outputs": []
    },
    {
      "cell_type": "code",
      "metadata": {
        "id": "axyTiwFD5mJI",
        "colab_type": "code",
        "outputId": "de89e558-1e36-43e3-84de-13e483c70134",
        "colab": {
          "base_uri": "https://localhost:8080/",
          "height": 84
        }
      },
      "source": [
        "model.fit(X,y)"
      ],
      "execution_count": 0,
      "outputs": [
        {
          "output_type": "execute_result",
          "data": {
            "text/plain": [
              "SVC(C=1, break_ties=False, cache_size=200, class_weight=None, coef0=0.0,\n",
              "    decision_function_shape='ovr', degree=3, gamma='scale', kernel='linear',\n",
              "    max_iter=-1, probability=False, random_state=None, shrinking=True,\n",
              "    tol=0.001, verbose=False)"
            ]
          },
          "metadata": {
            "tags": []
          },
          "execution_count": 9
        }
      ]
    },
    {
      "cell_type": "code",
      "metadata": {
        "id": "WWd5uRZB57XH",
        "colab_type": "code",
        "colab": {}
      },
      "source": [
        "#plot the decision function\n",
        "def plot_svc_decision_function(model,ax=None,plot_support=True):\n",
        "  if ax is None:\n",
        "    ax=plt.gca()\n",
        "  xlim=ax.get_xlim()\n",
        "  ylim=ax.get_ylim()\n",
        "\n",
        "  x=np.linspace(xlim[0],xlim[1],30)\n",
        "  y=np.linspace(ylim[0],ylim[1],30)\n",
        "  Y,X=np.meshgrid(y,x)\n",
        "  xy=np.vstack([X.ravel(),Y.ravel()]).T\n",
        "  P=model.decision_function(xy).reshape(X.shape)\n",
        "\n",
        "  ax.contour(X,Y,P,color='k',levels=[-1,0,1],alpha=0.5,linestyles=['--','-','--'])\n",
        "\n",
        "  if plot_support:\n",
        "    ax.scatter(model.support_vectors_[:,0],model.support_vectors_[:,1],s=300,linewidth=5,facecolors=None)\n",
        "\n",
        "  ax.set_xlim(xlim)\n",
        "  ax.set_ylim(ylim)\n",
        "\n",
        "              "
      ],
      "execution_count": 0,
      "outputs": []
    },
    {
      "cell_type": "code",
      "metadata": {
        "id": "dXkyNbwf8WvX",
        "colab_type": "code",
        "outputId": "11239657-e660-42e2-e126-b8084e321d70",
        "colab": {
          "base_uri": "https://localhost:8080/",
          "height": 265
        }
      },
      "source": [
        "plt.scatter(X[:,0],X[:,1],c=y,s=50,cmap='autumn')\n",
        "plot_svc_decision_function(model)"
      ],
      "execution_count": 0,
      "outputs": [
        {
          "output_type": "display_data",
          "data": {
            "image/png": "[encoded data removed]",
            "text/plain": [
              "<Figure size 432x288 with 1 Axes>"
            ]
          },
          "metadata": {
            "tags": [],
            "needs_background": "light"
          }
        }
      ]
    },
    {
      "cell_type": "code",
      "metadata": {
        "id": "Ya9aDj3d8oo9",
        "colab_type": "code",
        "colab": {}
      },
      "source": [
        "import pandas as pd\n",
        "import seaborn as sns\n"
      ],
      "execution_count": 0,
      "outputs": []
    },
    {
      "cell_type": "code",
      "metadata": {
        "id": "Wlv6RQ6B-JAn",
        "colab_type": "code",
        "outputId": "a40d6632-1a5a-46c4-997c-b10f9e426078",
        "colab": {
          "base_uri": "https://localhost:8080/",
          "height": 195
        }
      },
      "source": [
        "d=pd.read_csv(\"winequality.csv\")\n",
        "d.head()"
      ],
      "execution_count": 0,
      "outputs": [
        {
          "output_type": "execute_result",
          "data": {
            "text/html": [
              "<div>\n",
              "<style scoped>\n",
              "    .dataframe tbody tr th:only-of-type {\n",
              "        vertical-align: middle;\n",
              "    }\n",
              "\n",
              "    .dataframe tbody tr th {\n",
              "        vertical-align: top;\n",
              "    }\n",
              "\n",
              "    .dataframe thead th {\n",
              "        text-align: right;\n",
              "    }\n",
              "</style>\n",
              "<table border=\"1\" class=\"dataframe\">\n",
              "  <thead>\n",
              "    <tr style=\"text-align: right;\">\n",
              "      <th></th>\n",
              "      <th>fixed acidity</th>\n",
              "      <th>volatile acidity</th>\n",
              "      <th>citric acid</th>\n",
              "      <th>residual sugar</th>\n",
              "      <th>chlorides</th>\n",
              "      <th>free sulfur dioxide</th>\n",
              "      <th>total sulfur dioxide</th>\n",
              "      <th>density</th>\n",
              "      <th>pH</th>\n",
              "      <th>sulphates</th>\n",
              "      <th>alcohol</th>\n",
              "      <th>quality</th>\n",
              "    </tr>\n",
              "  </thead>\n",
              "  <tbody>\n",
              "    <tr>\n",
              "      <th>0</th>\n",
              "      <td>7.4</td>\n",
              "      <td>0.70</td>\n",
              "      <td>0.00</td>\n",
              "      <td>1.9</td>\n",
              "      <td>0.076</td>\n",
              "      <td>11.0</td>\n",
              "      <td>34.0</td>\n",
              "      <td>0.9978</td>\n",
              "      <td>3.51</td>\n",
              "      <td>0.56</td>\n",
              "      <td>9.4</td>\n",
              "      <td>5</td>\n",
              "    </tr>\n",
              "    <tr>\n",
              "      <th>1</th>\n",
              "      <td>7.8</td>\n",
              "      <td>0.88</td>\n",
              "      <td>0.00</td>\n",
              "      <td>2.6</td>\n",
              "      <td>0.098</td>\n",
              "      <td>25.0</td>\n",
              "      <td>67.0</td>\n",
              "      <td>0.9968</td>\n",
              "      <td>3.20</td>\n",
              "      <td>0.68</td>\n",
              "      <td>9.8</td>\n",
              "      <td>5</td>\n",
              "    </tr>\n",
              "    <tr>\n",
              "      <th>2</th>\n",
              "      <td>7.8</td>\n",
              "      <td>0.76</td>\n",
              "      <td>0.04</td>\n",
              "      <td>2.3</td>\n",
              "      <td>0.092</td>\n",
              "      <td>15.0</td>\n",
              "      <td>54.0</td>\n",
              "      <td>0.9970</td>\n",
              "      <td>3.26</td>\n",
              "      <td>0.65</td>\n",
              "      <td>9.8</td>\n",
              "      <td>5</td>\n",
              "    </tr>\n",
              "    <tr>\n",
              "      <th>3</th>\n",
              "      <td>11.2</td>\n",
              "      <td>0.28</td>\n",
              "      <td>0.56</td>\n",
              "      <td>1.9</td>\n",
              "      <td>0.075</td>\n",
              "      <td>17.0</td>\n",
              "      <td>60.0</td>\n",
              "      <td>0.9980</td>\n",
              "      <td>3.16</td>\n",
              "      <td>0.58</td>\n",
              "      <td>9.8</td>\n",
              "      <td>6</td>\n",
              "    </tr>\n",
              "    <tr>\n",
              "      <th>4</th>\n",
              "      <td>7.4</td>\n",
              "      <td>0.70</td>\n",
              "      <td>0.00</td>\n",
              "      <td>1.9</td>\n",
              "      <td>0.076</td>\n",
              "      <td>11.0</td>\n",
              "      <td>34.0</td>\n",
              "      <td>0.9978</td>\n",
              "      <td>3.51</td>\n",
              "      <td>0.56</td>\n",
              "      <td>9.4</td>\n",
              "      <td>5</td>\n",
              "    </tr>\n",
              "  </tbody>\n",
              "</table>\n",
              "</div>"
            ],
            "text/plain": [
              "   fixed acidity  volatile acidity  citric acid  ...  sulphates  alcohol  quality\n",
              "0            7.4              0.70         0.00  ...       0.56      9.4        5\n",
              "1            7.8              0.88         0.00  ...       0.68      9.8        5\n",
              "2            7.8              0.76         0.04  ...       0.65      9.8        5\n",
              "3           11.2              0.28         0.56  ...       0.58      9.8        6\n",
              "4            7.4              0.70         0.00  ...       0.56      9.4        5\n",
              "\n",
              "[5 rows x 12 columns]"
            ]
          },
          "metadata": {
            "tags": []
          },
          "execution_count": 23
        }
      ]
    },
    {
      "cell_type": "code",
      "metadata": {
        "id": "uHejLE3z-P6u",
        "colab_type": "code",
        "outputId": "66ad6dca-867a-4f16-e889-8310c6883f8f",
        "colab": {
          "base_uri": "https://localhost:8080/",
          "height": 336
        }
      },
      "source": [
        "d.info()"
      ],
      "execution_count": 0,
      "outputs": [
        {
          "output_type": "stream",
          "text": [
            "<class 'pandas.core.frame.DataFrame'>\n",
            "RangeIndex: 1599 entries, 0 to 1598\n",
            "Data columns (total 12 columns):\n",
            " #   Column                Non-Null Count  Dtype  \n",
            "---  ------                --------------  -----  \n",
            " 0   fixed acidity         1599 non-null   float64\n",
            " 1   volatile acidity      1599 non-null   float64\n",
            " 2   citric acid           1599 non-null   float64\n",
            " 3   residual sugar        1599 non-null   float64\n",
            " 4   chlorides             1599 non-null   float64\n",
            " 5   free sulfur dioxide   1599 non-null   float64\n",
            " 6   total sulfur dioxide  1599 non-null   float64\n",
            " 7   density               1599 non-null   float64\n",
            " 8   pH                    1599 non-null   float64\n",
            " 9   sulphates             1599 non-null   float64\n",
            " 10  alcohol               1599 non-null   float64\n",
            " 11  quality               1599 non-null   int64  \n",
            "dtypes: float64(11), int64(1)\n",
            "memory usage: 150.0 KB\n"
          ],
          "name": "stdout"
        }
      ]
    },
    {
      "cell_type": "code",
      "metadata": {
        "id": "uOoZXZSK-ZMU",
        "colab_type": "code",
        "outputId": "563ef25e-c27e-4c09-d5ef-95c7f28d7d18",
        "colab": {
          "base_uri": "https://localhost:8080/",
          "height": 235
        }
      },
      "source": [
        "d.isnull().sum()"
      ],
      "execution_count": 0,
      "outputs": [
        {
          "output_type": "execute_result",
          "data": {
            "text/plain": [
              "fixed acidity           0\n",
              "volatile acidity        0\n",
              "citric acid             0\n",
              "residual sugar          0\n",
              "chlorides               0\n",
              "free sulfur dioxide     0\n",
              "total sulfur dioxide    0\n",
              "density                 0\n",
              "pH                      0\n",
              "sulphates               0\n",
              "alcohol                 0\n",
              "quality                 0\n",
              "dtype: int64"
            ]
          },
          "metadata": {
            "tags": []
          },
          "execution_count": 25
        }
      ]
    },
    {
      "cell_type": "code",
      "metadata": {
        "id": "z4NJrNQ6-iXI",
        "colab_type": "code",
        "outputId": "42277df5-3229-47ee-e735-fcd56936a052",
        "colab": {
          "base_uri": "https://localhost:8080/",
          "height": 279
        }
      },
      "source": [
        "#quality vs sulphates\n",
        "sns.barplot(x=\"quality\",y=\"sulphates\",data=d)\n",
        "plt.show()"
      ],
      "execution_count": 0,
      "outputs": [
        {
          "output_type": "display_data",
          "data": {
            "image/png": "[encoded data removed]",
            "text/plain": [
              "<Figure size 432x288 with 1 Axes>"
            ]
          },
          "metadata": {
            "tags": [],
            "needs_background": "light"
          }
        }
      ]
    },
    {
      "cell_type": "code",
      "metadata": {
        "id": "XVzD-dca-4nm",
        "colab_type": "code",
        "outputId": "1277622c-cce0-439c-95e0-cba694f985cf",
        "colab": {
          "base_uri": "https://localhost:8080/",
          "height": 279
        }
      },
      "source": [
        "sns.barplot(x=\"quality\",y=\"alcohol\",data=d)\n",
        "plt.show()"
      ],
      "execution_count": 0,
      "outputs": [
        {
          "output_type": "display_data",
          "data": {
            "image/png": "[encoded data removed]",
            "text/plain": [
              "<Figure size 432x288 with 1 Axes>"
            ]
          },
          "metadata": {
            "tags": [],
            "needs_background": "light"
          }
        }
      ]
    },
    {
      "cell_type": "code",
      "metadata": {
        "id": "ZKucpYFV_Gu4",
        "colab_type": "code",
        "outputId": "3019f80f-ce86-41c4-9841-86aebf1fe6fa",
        "colab": {
          "base_uri": "https://localhost:8080/",
          "height": 134
        }
      },
      "source": [
        "d['quality'].value_counts()"
      ],
      "execution_count": 0,
      "outputs": [
        {
          "output_type": "execute_result",
          "data": {
            "text/plain": [
              "5    681\n",
              "6    638\n",
              "7    199\n",
              "4     53\n",
              "8     18\n",
              "3     10\n",
              "Name: quality, dtype: int64"
            ]
          },
          "metadata": {
            "tags": []
          },
          "execution_count": 29
        }
      ]
    },
    {
      "cell_type": "code",
      "metadata": {
        "id": "I6p5iVvz_d4R",
        "colab_type": "code",
        "colab": {}
      },
      "source": [
        "#pandas cut func is used to segment anf sort the data into bins\n",
        "bins=(2,6,8)\n",
        "group_names=['bad','good']\n",
        "categories=pd.cut(d['quality'],bins,labels=group_names)\n",
        "d['quality']=categories"
      ],
      "execution_count": 0,
      "outputs": []
    },
    {
      "cell_type": "code",
      "metadata": {
        "id": "42jzuunxAFrF",
        "colab_type": "code",
        "outputId": "017206d1-5661-490c-bab6-cc08d88935f4",
        "colab": {
          "base_uri": "https://localhost:8080/",
          "height": 67
        }
      },
      "source": [
        "d['quality'].value_counts()"
      ],
      "execution_count": 0,
      "outputs": [
        {
          "output_type": "execute_result",
          "data": {
            "text/plain": [
              "bad     1382\n",
              "good     217\n",
              "Name: quality, dtype: int64"
            ]
          },
          "metadata": {
            "tags": []
          },
          "execution_count": 32
        }
      ]
    },
    {
      "cell_type": "code",
      "metadata": {
        "id": "VZ9cPN2OAKUr",
        "colab_type": "code",
        "outputId": "c75b503a-5f4b-425c-ffa4-e60e8409fcad",
        "colab": {
          "base_uri": "https://localhost:8080/",
          "height": 279
        }
      },
      "source": [
        "sns.barplot(x=\"quality\",y=\"alcohol\",data=d)#more alcohol means red wine\n",
        "plt.show()"
      ],
      "execution_count": 0,
      "outputs": [
        {
          "output_type": "display_data",
          "data": {
            "image/png": "[encoded data removed]",
            "text/plain": [
              "<Figure size 432x288 with 1 Axes>"
            ]
          },
          "metadata": {
            "tags": [],
            "needs_background": "light"
          }
        }
      ]
    },
    {
      "cell_type": "code",
      "metadata": {
        "id": "6wBpkvX5AgTP",
        "colab_type": "code",
        "colab": {}
      },
      "source": [
        "X=d.drop(['quality'],axis=1)\n",
        "y=d['quality']"
      ],
      "execution_count": 0,
      "outputs": []
    },
    {
      "cell_type": "code",
      "metadata": {
        "id": "q0eyBcxbAzdO",
        "colab_type": "code",
        "colab": {}
      },
      "source": [
        "from sklearn.preprocessing import LabelEncoder\n",
        "labelencoder=LabelEncoder()\n",
        "y=labelencoder.fit_transform(y)"
      ],
      "execution_count": 0,
      "outputs": []
    },
    {
      "cell_type": "code",
      "metadata": {
        "id": "XpEGX3G9A2WG",
        "colab_type": "code",
        "outputId": "c4ca6e66-fa05-4e1e-9545-a774da74e9d3",
        "colab": {
          "base_uri": "https://localhost:8080/",
          "height": 34
        }
      },
      "source": [
        "y"
      ],
      "execution_count": 0,
      "outputs": [
        {
          "output_type": "execute_result",
          "data": {
            "text/plain": [
              "array([0, 0, 0, ..., 0, 0, 0])"
            ]
          },
          "metadata": {
            "tags": []
          },
          "execution_count": 38
        }
      ]
    },
    {
      "cell_type": "code",
      "metadata": {
        "id": "aMs0GDWzBK3c",
        "colab_type": "code",
        "colab": {}
      },
      "source": [
        "from sklearn.model_selection import train_test_split\n",
        "X_train,X_test,y_train,y_test=train_test_split(X,y,test_size=0.2,random_state=0)"
      ],
      "execution_count": 0,
      "outputs": []
    },
    {
      "cell_type": "code",
      "metadata": {
        "id": "TAgM5Mu5BtAE",
        "colab_type": "code",
        "colab": {}
      },
      "source": [
        "from sklearn.preprocessing import StandardScaler\n",
        "sc=StandardScaler()\n",
        "X_transform=sc.fit_transform(X_train)\n",
        "X_test=sc.transform(X_test)"
      ],
      "execution_count": 0,
      "outputs": []
    },
    {
      "cell_type": "code",
      "metadata": {
        "id": "ZQFZyFb3CK2M",
        "colab_type": "code",
        "outputId": "756c1ad6-8832-44f6-8cfe-cc18271bedb3",
        "colab": {
          "base_uri": "https://localhost:8080/",
          "height": 34
        }
      },
      "source": [
        "from sklearn.svm import SVC\n",
        "\n",
        "from sklearn.metrics import accuracy_score,confusion_matrix\n",
        "classifier=SVC(kernel='rbf',random_state=0)\n",
        "classifier.fit(X_train,y_train)\n",
        "y_pred=classifier.predict(X_test)\n",
        "accuracy_score(y_pred,y_test)"
      ],
      "execution_count": 0,
      "outputs": [
        {
          "output_type": "execute_result",
          "data": {
            "text/plain": [
              "0.90625"
            ]
          },
          "metadata": {
            "tags": []
          },
          "execution_count": 42
        }
      ]
    },
    {
      "cell_type": "code",
      "metadata": {
        "id": "7QmNeypYCwve",
        "colab_type": "code",
        "colab": {}
      },
      "source": [
        "#gridsearch for best model and parameters\n",
        "from sklearn.model_selection import GridSearchCV\n",
        "parameters=[{'C':[1,10,100],'kernel':['linear']},{'C':[1,10,100],'kernel':['rbf']},{'gamma':[0.1,0.2,0.4,0.5,0.6,0.7,0.8,0.9]}]\n",
        "grid_search=GridSearchCV(estimator=classifier,param_grid=parameters,scoring=\"accuracy\",cv=10,n_jobs=-1)\n",
        "grid_search.fit(X_train,y_train)\n",
        "best_accuracy=grid_search.best_score_\n",
        "best_parameters=grid_search.best_params_"
      ],
      "execution_count": 0,
      "outputs": []
    },
    {
      "cell_type": "code",
      "metadata": {
        "id": "VQ0B1Cx4EH_O",
        "colab_type": "code",
        "outputId": "c6c9dd9b-eb51-4a81-f5d4-b7d5701b3da4",
        "colab": {
          "base_uri": "https://localhost:8080/",
          "height": 34
        }
      },
      "source": [
        "best_parameters"
      ],
      "execution_count": 0,
      "outputs": [
        {
          "output_type": "execute_result",
          "data": {
            "text/plain": [
              "{'gamma': 0.9}"
            ]
          },
          "metadata": {
            "tags": []
          },
          "execution_count": 48
        }
      ]
    },
    {
      "cell_type": "code",
      "metadata": {
        "id": "dJ57tmKgE-Ha",
        "colab_type": "code",
        "outputId": "86bd4e46-ae44-4f81-d9f1-3960d5598e68",
        "colab": {
          "base_uri": "https://localhost:8080/",
          "height": 34
        }
      },
      "source": [
        "classifier=SVC(kernel='rbf',gamma=0.9)\n",
        "classifier.fit(X_train,y_train)\n",
        "y_pred=classifier.predict(X_test)\n",
        "accuracy_score(y_pred,y_test)"
      ],
      "execution_count": 0,
      "outputs": [
        {
          "output_type": "execute_result",
          "data": {
            "text/plain": [
              "0.90625"
            ]
          },
          "metadata": {
            "tags": []
          },
          "execution_count": 49
        }
      ]
    }
  ]
}